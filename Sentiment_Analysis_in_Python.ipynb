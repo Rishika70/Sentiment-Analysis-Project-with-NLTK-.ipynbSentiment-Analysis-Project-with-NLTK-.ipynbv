{
  "nbformat": 4,
  "nbformat_minor": 0,
  "metadata": {
    "colab": {
      "private_outputs": true,
      "provenance": [],
      "authorship_tag": "ABX9TyNI2QiVoiTPxMaOXSR+boNE",
      "include_colab_link": true
    },
    "kernelspec": {
      "name": "python3",
      "display_name": "Python 3"
    },
    "language_info": {
      "name": "python"
    }
  },
  "cells": [
    {
      "cell_type": "markdown",
      "metadata": {
        "id": "view-in-github",
        "colab_type": "text"
      },
      "source": [
        "<a href=\"https://colab.research.google.com/github/Rishika70/Sentiment-Analysis-Project-with-NLTK-.ipynbSentiment-Analysis-Project-with-NLTK-.ipynbv/blob/main/Sentiment_Analysis_in_Python.ipynb\" target=\"_parent\"><img src=\"https://colab.research.google.com/assets/colab-badge.svg\" alt=\"Open In Colab\"/></a>"
      ]
    },
    {
      "cell_type": "code",
      "source": [],
      "metadata": {
        "id": "7LZm31HbAFe4"
      },
      "execution_count": null,
      "outputs": []
    }
  ]
}